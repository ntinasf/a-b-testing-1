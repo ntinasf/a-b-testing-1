{
 "cells": [
  {
   "cell_type": "markdown",
   "metadata": {},
   "source": [
    "We will design a classic A/B test to compare the performance of the two button. \n",
    "1) Our OEC will be ctr of each button\n",
    "2) Suppose that the ctr of our current design (button A) is 7%.\n",
    "3) Let's say that our Minimum Detectable Effect (ie the smallest change that we care about) is a 25% increase in ctr. this means that we are hoping to detect a ctr of 8.75 and above when we test the new design.\n",
    "4) Now we must decide on confidence level and the power of our test. In this case we must think what type of error we are more willing to accept. Having in mind that a button design is a low cost and easily reversible change, a type 1 error (detecting an impact when there is not) is not so coslty as a type 2 error (not detecting an impact when there is one). Because missing on a 25% increase from our current rate would be a substantial lost opportunity. <br>Taking these factors into account lead us to decide on a 95% confidence level and a 90% power. \n",
    "5) Plugging those values into a sample size calculator  like this [link](https://www.evanmiller.org/ab-testing/sample-size.html#!7.000000000000001;90;5;25;1) , tells us that we will need 4664 samples from each variant in order to draw statistically significant conclusions."
   ]
  },
  {
   "cell_type": "code",
   "execution_count": 11,
   "metadata": {},
   "outputs": [
    {
     "name": "stdout",
     "output_type": "stream",
     "text": [
      "-7.720488478166864 5.794236386136223e-15\n",
      "True\n",
      "0.05633169274633622 0.033520480737052494\n",
      "-0.022811212009283724\n"
     ]
    }
   ],
   "source": [
    "from statsmodels.stats.proportion import test_proportions_2indep, confint_proportions_2indep\n",
    "\n",
    "stat, p_value = test_proportions_2indep(count1=351,\n",
    "                                        nobs1=4701,\n",
    "                                        count2=468,\n",
    "                                        nobs2=4700,\n",
    "                                        value=0.02,\n",
    "                                        compare=\"diff\",\n",
    "                                        alternative=\"smaller\")\n",
    "\n",
    "lower, upper = confint_proportions_2indep(count1=468,\n",
    "                                        nobs1=4700,\n",
    "                                        count2=351,\n",
    "                                        nobs2=4701,\n",
    "                                        compare=\"diff\",\n",
    "                                        alpha=0.05)\n",
    "# p1 - p2\n",
    "print(stat, p_value)\n",
    "print(p_value<0.05)\n",
    "print(upper+0.02, lower+0.02)\n",
    "print(lower - upper)"
   ]
  },
  {
   "cell_type": "code",
   "execution_count": 12,
   "metadata": {},
   "outputs": [
    {
     "name": "stdout",
     "output_type": "stream",
     "text": [
      "0.013520480737052497 0.03633169274633622\n"
     ]
    }
   ],
   "source": [
    "print(lower, upper) # We can be 99% confident that the true difference between population\n",
    "# proportions is between 0.013 and 0.036\n",
    "# confidence interval includes 0.02"
   ]
  },
  {
   "cell_type": "markdown",
   "metadata": {},
   "source": [
    "next Recommend rolling out the new button design.. Document findings clearly"
   ]
  },
  {
   "cell_type": "code",
   "execution_count": 9,
   "metadata": {},
   "outputs": [
    {
     "data": {
      "text/plain": [
       "np.float64(-0.06506747255166312)"
      ]
     },
     "execution_count": 9,
     "metadata": {},
     "output_type": "execute_result"
    }
   ],
   "source": [
    "from statsmodels.stats.proportion import proportion_effectsize\n",
    "\n",
    "proportion_effectsize(0.07, 0.0875, method='normal')"
   ]
  },
  {
   "cell_type": "code",
   "execution_count": null,
   "metadata": {},
   "outputs": [],
   "source": []
  },
  {
   "cell_type": "code",
   "execution_count": null,
   "metadata": {},
   "outputs": [],
   "source": [
    "  plot_cumulative_reward(true_ctrs=[actual_ctr_a, actual_ctr_b], decisions=decisions, \n",
    "                         n_samples=n_samples, save_path=\"data/figures\")"
   ]
  }
 ],
 "metadata": {
  "kernelspec": {
   "display_name": "ab_testing_env",
   "language": "python",
   "name": "python3"
  },
  "language_info": {
   "codemirror_mode": {
    "name": "ipython",
    "version": 3
   },
   "file_extension": ".py",
   "mimetype": "text/x-python",
   "name": "python",
   "nbconvert_exporter": "python",
   "pygments_lexer": "ipython3",
   "version": "3.11.9"
  }
 },
 "nbformat": 4,
 "nbformat_minor": 2
}
