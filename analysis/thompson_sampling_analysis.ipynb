{
 "cells": [
  {
   "cell_type": "markdown",
   "metadata": {},
   "source": [
    "For this analysis we will use two variations of the Thompson Sampling (TS) allgorithm. <br>In the first experiment, we will allow the server to allocate views randomly for both buttons A and B in order to monitor the current behaviour of the users and then allow the algorithm to take over and assign the views according to the collected data. <br>This minimum exploration period ensures that we monitor current user behavior without relying on historical data at all. For this reason we begin with uninformative beta priors."
   ]
  },
  {
   "cell_type": "markdown",
   "metadata": {},
   "source": [
    "For this reason we run the thompson_server.py with these setting. Initialize both bandits withusing initial_exploration=True and for bandit A we set a_prior=1 and b_prior=1."
   ]
  },
  {
   "cell_type": "code",
   "execution_count": 4,
   "metadata": {},
   "outputs": [
    {
     "data": {
      "text/plain": [
       "algorithm          Thompson\n",
       "true_ctr_a            0.072\n",
       "true_ctr_b            0.102\n",
       "bandit_ctr_a       0.048309\n",
       "bandit_ctr_b       0.100334\n",
       "button_a_clicks          10\n",
       "button_a_views          207\n",
       "button_b_clicks         180\n",
       "button_b_views         1794\n",
       "total_regret         14.102\n",
       "a_alpha                  11\n",
       "a_beta                  198\n",
       "b_alpha                 181\n",
       "b_beta                 1615\n",
       "dtype: object"
      ]
     },
     "execution_count": 4,
     "metadata": {},
     "output_type": "execute_result"
    }
   ],
   "source": [
    "import pandas as pd\n",
    "import numpy as np\n",
    "import os\n",
    "from pathlib import Path\n",
    "#os.chdir(Path.cwd().parent)\n",
    "\n",
    "results = pd.read_csv(\"data/simulation_results.csv\")\n",
    "results = pd.Series(results.values[0], index=results.columns)\n",
    "results"
   ]
  },
  {
   "cell_type": "code",
   "execution_count": 5,
   "metadata": {},
   "outputs": [
    {
     "data": {
      "text/plain": [
       "np.float64(0.9424)"
      ]
     },
     "execution_count": 5,
     "metadata": {},
     "output_type": "execute_result"
    }
   ],
   "source": [
    "N_SAMPLES = 10000\n",
    "MDE = 0.02\n",
    "\n",
    "sample_a = np.random.beta(results.loc[\"a_alpha\"], results.loc[\"a_beta\"], N_SAMPLES)\n",
    "sample_b = np.random.beta(results.loc[\"b_alpha\"], results.loc[\"b_beta\"], N_SAMPLES)\n",
    "\n",
    "diff = sample_b > (sample_a + MDE)\n",
    "diff.mean()"
   ]
  },
  {
   "cell_type": "markdown",
   "metadata": {},
   "source": [
    "![Cumulative Reward](../data/figures/cumulative_reward.png)"
   ]
  },
  {
   "cell_type": "markdown",
   "metadata": {},
   "source": [
    "![Posterior Grid](../data/figures/posterior_grid.png)"
   ]
  },
  {
   "cell_type": "markdown",
   "metadata": {},
   "source": [
    "<hr>"
   ]
  },
  {
   "cell_type": "markdown",
   "metadata": {},
   "source": [
    "For the second experiment we will make use of our prior belierfs about the current ctr of button A and we will allow the argorithm to handle exploration. We believe  the ctr of A to be around 7% so we will initialize banditA with a_prior = 6 and b_prior = 78 and minimum_exploration = False"
   ]
  },
  {
   "cell_type": "code",
   "execution_count": null,
   "metadata": {},
   "outputs": [
    {
     "data": {
      "text/plain": [
       "algorithm          Thompson\n",
       "true_ctr_a            0.072\n",
       "true_ctr_b            0.102\n",
       "bandit_ctr_a         0.0125\n",
       "bandit_ctr_b          0.102\n",
       "button_a_clicks           1\n",
       "button_a_views           80\n",
       "button_b_clicks         255\n",
       "button_b_views         2500\n",
       "total_regret           7.16\n",
       "a_alpha                   7\n",
       "a_beta                  157\n",
       "b_alpha                 256\n",
       "b_beta                 2246\n",
       "dtype: object"
      ]
     },
     "execution_count": 12,
     "metadata": {},
     "output_type": "execute_result"
    }
   ],
   "source": [
    "results = pd.read_csv(\"data/simulation_results.csv\")\n",
    "results = pd.Series(results.values[0], index=results.columns)\n",
    "results"
   ]
  },
  {
   "cell_type": "code",
   "execution_count": 13,
   "metadata": {},
   "outputs": [
    {
     "data": {
      "text/plain": [
       "np.float64(0.9814)"
      ]
     },
     "execution_count": 13,
     "metadata": {},
     "output_type": "execute_result"
    }
   ],
   "source": [
    "N_SAMPLES = 10000\n",
    "MDE = 0.02\n",
    "\n",
    "sample_a = np.random.beta(results.loc[\"a_alpha\"], results.loc[\"a_beta\"], N_SAMPLES)\n",
    "sample_b = np.random.beta(results.loc[\"b_alpha\"], results.loc[\"b_beta\"], N_SAMPLES)\n",
    "\n",
    "diff = sample_b > (sample_a + MDE)\n",
    "diff.mean()"
   ]
  },
  {
   "cell_type": "code",
   "execution_count": 11,
   "metadata": {},
   "outputs": [
    {
     "data": {
      "text/plain": [
       "'/home/fotis/pylab/repos/ab_testing'"
      ]
     },
     "execution_count": 11,
     "metadata": {},
     "output_type": "execute_result"
    }
   ],
   "source": [
    "os.chdir(\"ab_testing\")\n",
    "os.getcwd()"
   ]
  },
  {
   "cell_type": "markdown",
   "metadata": {},
   "source": [
    "![Cumulative Reward](../data/figures/cumulative_reward.png)"
   ]
  },
  {
   "cell_type": "markdown",
   "metadata": {},
   "source": [
    "![Posterior Grid](../data/figures/posterior_grid.png)"
   ]
  }
 ],
 "metadata": {
  "kernelspec": {
   "display_name": "ab_testing_env",
   "language": "python",
   "name": "python3"
  },
  "language_info": {
   "codemirror_mode": {
    "name": "ipython",
    "version": 3
   },
   "file_extension": ".py",
   "mimetype": "text/x-python",
   "name": "python",
   "nbconvert_exporter": "python",
   "pygments_lexer": "ipython3",
   "version": "3.11.9"
  }
 },
 "nbformat": 4,
 "nbformat_minor": 2
}
